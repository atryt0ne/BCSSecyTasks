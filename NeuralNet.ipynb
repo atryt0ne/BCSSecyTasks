{
 "cells": [
  {
   "cell_type": "markdown",
   "metadata": {},
   "source": [
    "# Simple Neural Net From Scratch"
   ]
  },
  {
   "cell_type": "markdown",
   "metadata": {},
   "source": [
    "## The Fundamental Idea\n",
    "- In our body, neurons form the smallest unit of the brain\n",
    "- Each individual neuron is a pretty simple structure, it takes a few inputs (we represent them in a vector), modifies them (we represent these as multiplication by a weight and addition to a bias), and then sends the output forward\n",
    "- Such simple neurons arranged in very complex ways enable our brain to solve problems and identify patterns and what not\n",
    "- So the power of a neural network similarly will come from complex connections between simple units called neurons "
   ]
  },
  {
   "cell_type": "markdown",
   "metadata": {},
   "source": [
    "## Linear Unit\n",
    "- An individual neuron performs the following\n",
    "- $y = wx + b$\n",
    "- Here - \n",
    "1. x is the input\n",
    "2. w is the weight, the strength of the connection of this input to this neuron\n",
    "3. b is the bias\n",
    "4. y is the output\n",
    "\n",
    "## With Multiple Inputs\n",
    "- Each new input gets a new weight associated with it\n",
    "- $y = w_0x_0 + w_1x_1 + w_2x_2 ... + w_{n-1}x_{n-1} + b$\n",
    "\n",
    "## Now Multiple Neurons\n",
    "- One Neuron on its own is not that useful, so we make a lot of them, all acting on the same set of inputs - $x_0$ through $x_{n-1}$\n",
    "- Each set of such neurons is called a layer\n",
    "\n",
    "## Multiple Layers\n",
    "- Each layer is a rather simple transformation on a vector, but a stack of layers can handle a lot more complexity\n",
    "- However, if two layers are connected linearly, they are always going to be equivalent to one layer\n",
    "- To introduce non-linearity in this system, we connect layers with specialised functions called activation functions\n",
    "\n",
    "### Activation Function\n",
    "- These allow our layers to learn non-linear data\n",
    "- There are a few different types - tanh, sigmoid, ReLu, Leaky ReLu, softmax, etc.\n",
    "- But the basic purpose is the same, it can take a linear output of one layer and map it non-linearly before sending it as input to the next layer, thus introducing the non-linearity we want\n",
    "\n",
    "#### Dense Layers\n",
    "- A layer in which all the neurons take input from all the neurons of a previous layer\n",
    "\n",
    "#### Fully Connected Network \n",
    "- Network where all neurons of one layer connect to all neurons of the next layer\n",
    "\n",
    "## Make it capable of learning\n",
    "- While our network as it is now is capable of producing an output, it isn't capable of learning\n",
    "- This is called forward propagation - the flow of data from one layer to the next, till it produces an output at the end\n",
    "- But learning involves adjusting from mistakes, and we need a way to incorporate this\n",
    "\n",
    "## Mistakes - Loss Function\n",
    "- A Loss Function takes in the actual output the model was supposed to give, and the output the model predicted, and gives some value that can tell us how wrong the model was\n",
    "- Usually this is done by finding the mean square error.\n",
    "\n",
    "## Learning from a Mistake\n",
    "- Each weight and bias contributes to the final error value, and technically there must be an ideal value of weights and biases for which the model produces the correct output\n",
    "- Finding the correct value of a parameter using errors is accomplished by derivatives. We find the derivative of the error with respect to each parameter. Change the value of the parameter in steps to minimize the error.\n",
    "- Eventually the parameters will reach their ideal value, depending on how big the steps are.\n",
    "- This is called backward propagation.\n",
    "- The learning rate is the special parameter that decides the size of the steps"
   ]
  },
  {
   "cell_type": "markdown",
   "metadata": {},
   "source": [
    "The basic flow of a neural net is explained thusly - \n",
    "1. Feed input into the network\n",
    "2. Forward Propagation - Data flows from layer to layer till you get an output\n",
    "3. From the output, we can find a scalar error\n",
    "4. Backward Propagation - Differentiate the scalar error with respect to each parameter and adjust it\n",
    "5. Iterate again and again till error is minimized"
   ]
  },
  {
   "cell_type": "markdown",
   "metadata": {},
   "source": [
    "# Implementation\n",
    "\n",
    "## Importing Libraries"
   ]
  },
  {
   "cell_type": "code",
   "execution_count": 1,
   "metadata": {},
   "outputs": [],
   "source": [
    "import numpy as np\n",
    "import pandas as pd\n",
    "import matplotlib.pyplot as plt\n",
    "from sklearn.model_selection import train_test_split\n",
    "import warnings\n",
    "warnings.filterwarnings('ignore')"
   ]
  },
  {
   "cell_type": "markdown",
   "metadata": {},
   "source": [
    "The way I intend to approach this network is by defining simple template classes and then defining superclasses on them to make my final model\n",
    "\n",
    "## Basic Layer Template"
   ]
  },
  {
   "cell_type": "code",
   "execution_count": 2,
   "metadata": {},
   "outputs": [],
   "source": [
    "class Layer:\n",
    "    def __init__(self):\n",
    "        self.input = None\n",
    "        self.output = None\n",
    "    \n",
    "    def for_prop(self,input):\n",
    "        raise NotImplementedError\n",
    "    \n",
    "    def back_prop(self,output_error,learning_rate):\n",
    "        raise NotImplementedError"
   ]
  },
  {
   "cell_type": "markdown",
   "metadata": {},
   "source": [
    "## Fully Connceted Layer Template"
   ]
  },
  {
   "cell_type": "code",
   "execution_count": 3,
   "metadata": {},
   "outputs": [],
   "source": [
    "# Define Fully Connected Layer\n",
    "class FullCon_Layer(Layer):\n",
    "    def __init__(self,i_size,o_size):\n",
    "        self.weights = np.random.rand(i_size,o_size) - 0.5\n",
    "        self.bias = np.random.rand(1,o_size) - 0.5\n",
    "\n",
    "    def for_prop(self, i_data):\n",
    "        self.input = i_data\n",
    "        self.output = np.dot(self.input, self.weights) + self.bias\n",
    "        return self.output\n",
    "    \n",
    "    def back_prop(self, o_error, learning_rate):\n",
    "        i_error = np.dot(o_error, self.weights.T)\n",
    "        weights_error = np.dot(self.input.T, o_error)\n",
    "\n",
    "        self.weights -= learning_rate * weights_error\n",
    "        self.bias -= learning_rate * o_error\n",
    "        return i_error\n"
   ]
  },
  {
   "cell_type": "markdown",
   "metadata": {},
   "source": [
    "## Activation Layer Template"
   ]
  },
  {
   "cell_type": "code",
   "execution_count": 4,
   "metadata": {},
   "outputs": [],
   "source": [
    "# Define Activation Layers\n",
    "class Activ_Layer(Layer):\n",
    "    def __init__(self, activ,activ_dash):\n",
    "        self.activation = activ\n",
    "        self.activation_dash = activ_dash\n",
    "    \n",
    "    def for_prop(self, i_data):\n",
    "        self.input = i_data\n",
    "        self.output = self.activation(self.input)\n",
    "        return self.output\n",
    "    \n",
    "    def back_prop(self, o_error, learning_rate):\n",
    "        return self.activation_dash(self.input) * o_error"
   ]
  },
  {
   "cell_type": "markdown",
   "metadata": {},
   "source": [
    "### Some specific activation functions"
   ]
  },
  {
   "cell_type": "code",
   "execution_count": 5,
   "metadata": {},
   "outputs": [],
   "source": [
    "# Define some activation functions\n",
    "def tanh(x):\n",
    "    return np.tanh(x)\n",
    "\n",
    "def tanh_dash(x):\n",
    "    return 1-np.tanh(x)**2\n",
    "\n",
    "def sigmoid(x):\n",
    "    return 1/(1+np.exp(-x))\n",
    "\n",
    "def sigmoid_dash(x):\n",
    "    return sigmoid(x)*(1-sigmoid(x))"
   ]
  },
  {
   "cell_type": "markdown",
   "metadata": {},
   "source": [
    "## Loss Function Definition"
   ]
  },
  {
   "cell_type": "code",
   "execution_count": 6,
   "metadata": {},
   "outputs": [],
   "source": [
    "# Define Loss Functions\n",
    "def mean_sq_error(y_true, y_pred):\n",
    "    return np.mean(np.power(y_true-y_pred,2))\n",
    "\n",
    "def deriv_error(y_true,y_pred):\n",
    "    return 2*(y_pred-y_true)/y_true.size"
   ]
  },
  {
   "cell_type": "markdown",
   "metadata": {},
   "source": [
    "## Network Template"
   ]
  },
  {
   "cell_type": "code",
   "execution_count": 7,
   "metadata": {},
   "outputs": [],
   "source": [
    "# Define Network Template\n",
    "class Network:\n",
    "    def __init__(self):\n",
    "        self.layers = []\n",
    "        self.loss = None\n",
    "        self.loss_dash = None\n",
    "    \n",
    "    def add_layer(self,layer):\n",
    "        self.layers.append(layer)\n",
    "    \n",
    "    def use_func(self,loss,loss_dash):\n",
    "        self.loss = loss\n",
    "        self.loss_dash = loss_dash\n",
    "    \n",
    "    def predict(self,i_data):\n",
    "        result = []\n",
    "        for i in i_data:\n",
    "            output = i\n",
    "            for layer in self.layers:\n",
    "                output = layer.for_prop(output)\n",
    "            result.append(output)\n",
    "        \n",
    "        return result\n",
    "    \n",
    "    def fit(self, x_train, y_train, epochs, learning_rate):\n",
    "        samples = len(x_train)\n",
    "        for i in range(epochs):\n",
    "            err = 0\n",
    "            for j in range(samples):\n",
    "                output = x_train[j]\n",
    "                for layer in self.layers:\n",
    "                    output = layer.for_prop(output)\n",
    "\n",
    "                err += self.loss(y_train[j], output)\n",
    "\n",
    "                error = self.loss_dash(y_train[j], output)\n",
    "                for layer in reversed(self.layers):\n",
    "                    error = layer.back_prop(error, learning_rate)\n",
    "\n",
    "            err /= samples\n",
    "            print(f'epoch {i+1}/{epochs}: error={err}')"
   ]
  },
  {
   "cell_type": "markdown",
   "metadata": {},
   "source": [
    "# Testing the Model on MNIST dataset"
   ]
  },
  {
   "cell_type": "code",
   "execution_count": 12,
   "metadata": {},
   "outputs": [
    {
     "name": "stdout",
     "output_type": "stream",
     "text": [
      "epoch 1/40: error=0.09510017248606442\n",
      "epoch 2/40: error=0.07528109867367527\n",
      "epoch 3/40: error=0.06300385284568627\n",
      "epoch 4/40: error=0.05281841538954699\n",
      "epoch 5/40: error=0.045320136470309955\n",
      "epoch 6/40: error=0.03980616915025925\n",
      "epoch 7/40: error=0.035537480298379345\n",
      "epoch 8/40: error=0.03207767616291494\n",
      "epoch 9/40: error=0.029183010889167672\n",
      "epoch 10/40: error=0.026707043729420354\n",
      "epoch 11/40: error=0.024555029690879582\n",
      "epoch 12/40: error=0.022662380875471417\n",
      "epoch 13/40: error=0.02098443104635006\n",
      "epoch 14/40: error=0.019490502779520368\n",
      "epoch 15/40: error=0.018155128843872898\n",
      "epoch 16/40: error=0.016954627782864343\n",
      "epoch 17/40: error=0.015868691876561293\n",
      "epoch 18/40: error=0.014880867747338187\n",
      "epoch 19/40: error=0.013978143927683937\n",
      "epoch 20/40: error=0.013150199098016936\n",
      "epoch 21/40: error=0.012388525506674804\n",
      "epoch 22/40: error=0.01168572928449675\n",
      "epoch 23/40: error=0.011035190935115067\n",
      "epoch 24/40: error=0.010431072517388505\n",
      "epoch 25/40: error=0.009868544057884844\n",
      "epoch 26/40: error=0.009343993204935177\n",
      "epoch 27/40: error=0.00885487516599436\n",
      "epoch 28/40: error=0.008399134369609181\n",
      "epoch 29/40: error=0.007974646844087573\n",
      "epoch 30/40: error=0.007579035845740825\n",
      "epoch 31/40: error=0.007209767317015974\n",
      "epoch 32/40: error=0.006864359665918207\n",
      "epoch 33/40: error=0.006540631684486705\n",
      "epoch 34/40: error=0.006236875077319988\n",
      "epoch 35/40: error=0.005951828335080108\n",
      "epoch 36/40: error=0.00568452654015148\n",
      "epoch 37/40: error=0.0054342068895530705\n",
      "epoch 38/40: error=0.005200241299549481\n",
      "epoch 39/40: error=0.004981989601531007\n",
      "epoch 40/40: error=0.004778648429333927\n"
     ]
    }
   ],
   "source": [
    "# MNIST\n",
    "from keras.datasets import mnist\n",
    "from keras.utils import np_utils\n",
    "# load data\n",
    "(x_train,y_train),(_x_test,_y_test) = mnist.load_data()\n",
    "\n",
    "x_train = x_train.reshape(x_train.shape[0], 1, 28*28)\n",
    "x_test = _x_test.reshape(_x_test.shape[0], 1, 28*28)\n",
    "x_train = x_train.astype('float32')\n",
    "x_test = x_test.astype('float32')\n",
    "# Convert 0-255 pixel intensity values to 0-1 range\n",
    "x_train /= 255\n",
    "x_test /= 255\n",
    "\n",
    "# The output is 0 - 9, however we will store it as an array of 10 boolean values instead\n",
    "y_train = np_utils.to_categorical(y_train)\n",
    "y_test = np_utils.to_categorical(_y_test)\n",
    "\n",
    "Model = Network()\n",
    "Model.add_layer(FullCon_Layer(28*28,100))                 # Input\n",
    "Model.add_layer(Activ_Layer(tanh,tanh_dash))\n",
    "Model.add_layer(FullCon_Layer(100,50))\n",
    "Model.add_layer(Activ_Layer(sigmoid,sigmoid_dash))\n",
    "Model.add_layer(FullCon_Layer(50,10))\n",
    "Model.add_layer(Activ_Layer(sigmoid,sigmoid_dash))\n",
    "\n",
    "Model.use_func(mean_sq_error,deriv_error)\n",
    "Model.fit(x_train[0:1000],y_train[0:1000],epochs=40,learning_rate=0.1)\n"
   ]
  },
  {
   "cell_type": "code",
   "execution_count": 14,
   "metadata": {},
   "outputs": [
    {
     "name": "stdout",
     "output_type": "stream",
     "text": [
      "8    6    6    5    9    3    1    8    0    1    "
     ]
    },
    {
     "data": {
      "image/png": "[encoded data removed]",
      "text/plain": [
       "<Figure size 432x288 with 10 Axes>"
      ]
     },
     "metadata": {
      "needs_background": "light"
     },
     "output_type": "display_data"
    },
    {
     "name": "stdout",
     "output_type": "stream",
     "text": [
      "Predicted value: \n",
      "8    2    6    3    9    3    1    8    0    1    "
     ]
    }
   ],
   "source": [
    "n = 10   # = no. of images to see predictions on\n",
    "\n",
    "index = np.random.choice(10000,size=n)\n",
    "\n",
    "for i,ind in enumerate(index):\n",
    "    plt.subplot(1,n,i+1)\n",
    "    plt.imshow(_x_test[ind])\n",
    "    plt.axis(\"off\")\n",
    "    print(np.argmax(y_test[ind]*255),end=\"    \")\n",
    "\n",
    "plt.show()\n",
    "print(\"Predicted value: \")\n",
    "for i,ind in enumerate(index):\n",
    "    predict = Model.predict(np.array([x_test[ind]]))[0]\n",
    "    digit = np.argmax(predict)\n",
    "    print(digit,end=\"    \")"
   ]
  },
  {
   "cell_type": "markdown",
   "metadata": {},
   "source": [
    "These values are reasonably correct, except in complex cases, which is to be expected as this is a very simple model"
   ]
  }
 ],
 "metadata": {
  "kernelspec": {
   "display_name": "Python 3.7.13 ('rocket')",
   "language": "python",
   "name": "python3"
  },
  "language_info": {
   "codemirror_mode": {
    "name": "ipython",
    "version": 3
   },
   "file_extension": ".py",
   "mimetype": "text/x-python",
   "name": "python",
   "nbconvert_exporter": "python",
   "pygments_lexer": "ipython3",
   "version": "3.7.13"
  },
  "orig_nbformat": 4,
  "vscode": {
   "interpreter": {
    "hash": "a48890fff9439756cc1be33bd857fb46c30bdda2d4e03894713857f536aa5155"
   }
  }
 },
 "nbformat": 4,
 "nbformat_minor": 2
}
